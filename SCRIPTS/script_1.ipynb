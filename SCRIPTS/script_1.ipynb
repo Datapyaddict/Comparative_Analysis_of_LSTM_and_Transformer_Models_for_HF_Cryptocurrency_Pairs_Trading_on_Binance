{
 "cells": [
  {
   "cell_type": "markdown",
   "id": "rP1SCwiIqN4J",
   "metadata": {
    "id": "rP1SCwiIqN4J"
   },
   "source": [
    "# get prices to db"
   ]
  },
  {
   "cell_type": "markdown",
   "id": "i3of3-PfRntu",
   "metadata": {
    "id": "i3of3-PfRntu"
   },
   "source": [
    "##IMPORTANT :     DO NOT RUN this notebook in Google Colab as there there is a permission issue with the API in this environment (error 451). Run it on the local machine, instead."
   ]
  },
  {
   "cell_type": "markdown",
   "id": "BIMw8g9vMuX1",
   "metadata": {
    "id": "BIMw8g9vMuX1"
   },
   "source": [
    "# Modules"
   ]
  },
  {
   "cell_type": "markdown",
   "id": "GK4vRJfIqWn5",
   "metadata": {
    "id": "GK4vRJfIqWn5"
   },
   "source": []
  },
  {
   "cell_type": "code",
   "execution_count": null,
   "id": "d917fdfd-fa10-4d5e-baae-f343f78bb311",
   "metadata": {
    "colab": {
     "base_uri": "https://localhost:8080/"
    },
    "executionInfo": {
     "elapsed": 16088,
     "status": "ok",
     "timestamp": 1722768244631,
     "user": {
      "displayName": "Anh-Tuan NGUYEN",
      "userId": "04606402566845556729"
     },
     "user_tz": -60
    },
    "id": "d917fdfd-fa10-4d5e-baae-f343f78bb311",
    "outputId": "5a944159-c0af-43f0-ffdc-27ebccb38624"
   },
   "outputs": [],
   "source": [
    "!pip install pycoingecko"
   ]
  },
  {
   "cell_type": "code",
   "execution_count": null,
   "id": "70ec99b4-11c8-4192-be29-c5d531dfd981",
   "metadata": {
    "id": "70ec99b4-11c8-4192-be29-c5d531dfd981"
   },
   "outputs": [],
   "source": [
    "!pip install sqlalchemy"
   ]
  },
  {
   "cell_type": "code",
   "execution_count": null,
   "id": "0bcf23dc-6891-4ab1-ad2a-2b22c6d90570",
   "metadata": {
    "id": "0bcf23dc-6891-4ab1-ad2a-2b22c6d90570"
   },
   "outputs": [],
   "source": [
    "from pycoingecko import CoinGeckoAPI\n",
    "import pandas as pd\n",
    "from datetime import datetime\n",
    "\n",
    "import warnings\n",
    "from sqlalchemy import create_engine\n",
    "import sqlite3\n",
    "import requests\n",
    "from tqdm import tqdm\n",
    "from google.colab import drive\n",
    "import os\n"
   ]
  },
  {
   "cell_type": "code",
   "execution_count": null,
   "id": "DbsG52H_M4TH",
   "metadata": {
    "id": "DbsG52H_M4TH"
   },
   "outputs": [],
   "source": [
    "# Create a SQLite database connection\n",
    "engine = create_engine('sqlite:///binance_prices.db')\n"
   ]
  },
  {
   "cell_type": "markdown",
   "id": "db9b58e0-7b96-4fd2-8c85-7ad4bfba9340",
   "metadata": {
    "id": "db9b58e0-7b96-4fd2-8c85-7ad4bfba9340"
   },
   "source": [
    "# Get the list of coins quoted in USDT from Binance"
   ]
  },
  {
   "cell_type": "code",
   "execution_count": null,
   "id": "6a2b774d-c1ca-4137-b33b-67c7bfed63dc",
   "metadata": {
    "colab": {
     "base_uri": "https://localhost:8080/"
    },
    "executionInfo": {
     "elapsed": 825,
     "status": "ok",
     "timestamp": 1722769162038,
     "user": {
      "displayName": "Anh-Tuan NGUYEN",
      "userId": "04606402566845556729"
     },
     "user_tz": -60
    },
    "id": "6a2b774d-c1ca-4137-b33b-67c7bfed63dc",
    "outputId": "38251404-06f9-4e39-b81f-43b4a3a01e13"
   },
   "outputs": [],
   "source": [
    "def get_current_traded_coins_in_usdt():\n",
    "    \"\"\"\n",
    "    Fetch the current traded coin pairs in USDT from Binance API.\n",
    "    DO NOT RUN the script in Google Colab as there there is a permission issue in the API\n",
    "    in this environment (error 451)\n",
    "    Run it on the local machine.\n",
    "\n",
    "    Parameters:\n",
    "    ----------\n",
    "    None\n",
    "\n",
    "    Returns:\n",
    "    -------\n",
    "    list\n",
    "        A list of tuples containing the symbol, base asset, and quote asset of each traded pair.\n",
    "    \"\"\"\n",
    "    url = \"https://api.binance.com/api/v3/exchangeInfo\"\n",
    "    response = requests.get(url)\n",
    "\n",
    "    # Check for a successful response\n",
    "    if response.status_code == 200:\n",
    "        data = response.json()\n",
    "        symbols = []\n",
    "        for symbol in data['symbols']:\n",
    "            if symbol['quoteAsset'] == 'USDT':\n",
    "                symbols.append((symbol['symbol'],symbol['baseAsset'],symbol['quoteAsset']))\n",
    "\n",
    "        print(f\"Total pairs fetched: {len(symbols)}\")\n",
    "        return list(set(symbols))\n",
    "    else:\n",
    "        print(f\"Failed to fetch data: {response.status_code}\")\n",
    "        return []\n",
    "\n",
    "current_pairs = get_current_traded_coins_in_usdt()\n",
    "len(current_pairs)\n",
    "current_pairs = pd.DataFrame(current_pairs, columns = ['symbol','base_currency','quote_currency'])"
   ]
  },
  {
   "cell_type": "code",
   "execution_count": null,
   "id": "4e58975a-1df5-4a33-9b1c-a035a323e4f0",
   "metadata": {
    "colab": {
     "base_uri": "https://localhost:8080/",
     "height": 53
    },
    "executionInfo": {
     "elapsed": 295,
     "status": "ok",
     "timestamp": 1722768301700,
     "user": {
      "displayName": "Anh-Tuan NGUYEN",
      "userId": "04606402566845556729"
     },
     "user_tz": -60
    },
    "id": "4e58975a-1df5-4a33-9b1c-a035a323e4f0",
    "outputId": "15ff0867-ee9f-4067-9ea8-0d39d5199a51"
   },
   "outputs": [],
   "source": [
    "current_pairs.head()"
   ]
  },
  {
   "cell_type": "markdown",
   "id": "4b2c6490-711d-47c6-8787-38bc8b2462dc",
   "metadata": {
    "id": "4b2c6490-711d-47c6-8787-38bc8b2462dc"
   },
   "source": [
    "# remove stable coins"
   ]
  },
  {
   "cell_type": "code",
   "execution_count": null,
   "id": "1acb3a2d-3d82-46c8-8b64-6a51e0ab32ea",
   "metadata": {
    "id": "1acb3a2d-3d82-46c8-8b64-6a51e0ab32ea"
   },
   "outputs": [],
   "source": [
    "# Function to check if a coin is likely a stablecoin\n",
    "def is_stablecoin(base_currency):\n",
    "    \"\"\"\n",
    "    Check if a given currency is a stablecoin.\n",
    "\n",
    "    Parameters:\n",
    "    ----------\n",
    "    base_currency : str\n",
    "        The currency code to check.\n",
    "\n",
    "    Returns:\n",
    "    -------\n",
    "    bool\n",
    "        True if the currency is a stablecoin, False otherwise.\n",
    "    \"\"\"\n",
    "    stablecoin_identifiers = ['USD', 'USDT', 'DAI', 'USDC', 'PAX', 'TUSD', 'BUSD', 'GUSD']\n",
    "    return any(coin in base_currency for coin in stablecoin_identifiers)\n",
    "\n",
    "# Filter out stablecoins\n",
    "non_stablecoins_list = current_pairs[~current_pairs.apply(lambda x: is_stablecoin(x['base_currency']), axis=1)]\n",
    "\n",
    "non_stablecoins_list.shape"
   ]
  },
  {
   "cell_type": "markdown",
   "id": "e9ea2806-c2a5-409d-8aed-ae7dc29976f5",
   "metadata": {
    "id": "e9ea2806-c2a5-409d-8aed-ae7dc29976f5"
   },
   "source": [
    "# Get historical data from Binance and save to database"
   ]
  },
  {
   "cell_type": "code",
   "execution_count": null,
   "id": "919bec16-1ce7-412e-8f7f-691098389aed",
   "metadata": {
    "id": "919bec16-1ce7-412e-8f7f-691098389aed"
   },
   "outputs": [],
   "source": [
    "def get_binance_data(symbol, interval, start_str, end_str):\n",
    "    \"\"\"\n",
    "    Fetch historical data from Binance API with pagination.\n",
    "\n",
    "    Parameters:\n",
    "    ----------\n",
    "    symbol : str\n",
    "        The trading pair symbol\n",
    "    interval : str\n",
    "        The interval for the kline/candlestick data .\n",
    "    start_str : str\n",
    "        The start date in 'YYYY-MM-DD' format.\n",
    "    end_str : str\n",
    "        The end date in 'YYYY-MM-DD' format.\n",
    "\n",
    "    Returns:\n",
    "    -------\n",
    "    list\n",
    "        A list of lists containing the historical data.\n",
    "    \"\"\"\n",
    "    url = \"https://api.binance.com/api/v3/klines\"\n",
    "    start_time = int(datetime.strptime(start_str, '%Y-%m-%d').timestamp() * 1000)  # Convert to milliseconds\n",
    "    end_time = int(datetime.strptime(end_str, '%Y-%m-%d').timestamp() * 1000)  # Convert to milliseconds\n",
    "\n",
    "    # Container for all the data\n",
    "    all_data = []\n",
    "\n",
    "    while start_time < end_time:\n",
    "        params = {\n",
    "            'symbol': symbol,\n",
    "            'interval': interval,\n",
    "            'startTime': start_time,\n",
    "            'limit': 1000\n",
    "        }\n",
    "        response = requests.get(url, params=params)\n",
    "        data = response.json()\n",
    "        if not data:\n",
    "            break\n",
    "        all_data.extend(data)\n",
    "        last_entry = data[-1][0]  # Get the open time of the last entry\n",
    "        start_time = last_entry + (60 * 1000)  # Add one min in milliseconds\n",
    "\n",
    "    return all_data\n",
    "\n",
    "def convert_to_dataframe(data):\n",
    "    \"\"\"\n",
    "    Convert API response data into a pandas DataFrame.\n",
    "\n",
    "    Parameters:\n",
    "    ----------\n",
    "    data : list\n",
    "        A list of lists containing the historical data.\n",
    "\n",
    "    Returns:\n",
    "    -------\n",
    "    pandas.DataFrame\n",
    "        A DataFrame containing the historical data.\n",
    "    \"\"\"\n",
    "    df = pd.DataFrame(data, columns=['Open Time', 'Open', 'High', 'Low', 'Close', 'Volume', 'Close Time',\n",
    "                                     'Quote Asset Volume', 'Number of Trades', 'Taker buy base asset volume',\n",
    "                                     'Taker buy quote asset volume', 'Ignore'])\n",
    "    df['Open Time'] = pd.to_datetime(df['Open Time'], unit='ms')\n",
    "    df['Close Time'] = pd.to_datetime(df['Close Time'], unit='ms')\n",
    "    df['Open'] = df['Open'].astype('float64')\n",
    "    df['High'] = df['High'].astype('float64')\n",
    "    df['Low'] = df['Low'].astype('float64')\n",
    "    df['Close'] = df['Close'].astype('float64')\n",
    "    df['Mid'] = (df['High']+df['Low'])/2\n",
    "    df['Volume'] = df['Volume'].astype('float64')\n",
    "    df['Quote Asset Volume'] = df['Quote Asset Volume'].astype('float64')\n",
    "    df['Taker buy base asset volume'] = df['Taker buy base asset volume'].astype('float64')\n",
    "    df['Taker buy quote asset volume'] = df['Taker buy quote asset volume'].astype('float64')\n",
    "    df.drop(columns = ['Ignore'], inplace = True)\n",
    "    df.columns = ['open_time', 'open', 'high', 'low', 'close', 'volume', 'close_time',\n",
    "       'quote_asset_volume', 'number_of_trades', 'taker_buy_base_asset_volume',\n",
    "       'taker_buy_quote_asset_volume', 'mid']\n",
    "    return df\n",
    "\n",
    "\n",
    "\n"
   ]
  },
  {
   "cell_type": "code",
   "execution_count": null,
   "id": "27da0605-eca1-4071-9109-d544f53dbace",
   "metadata": {
    "id": "27da0605-eca1-4071-9109-d544f53dbace"
   },
   "outputs": [],
   "source": [
    "# Parameters\n",
    "interval = '1m'\n",
    "start_str = '2023-01-01'\n",
    "end_str = '2024-01-31'\n",
    "\n",
    "# Fetch data\n",
    "with tqdm(total = non_stablecoins_list.shape[0], desc = 'processing pairs', bar_format = '{l_bar}{bar} | {n_fmt}/{total_fmt}') as pbar:\n",
    "    for _,pair in non_stablecoins_list.iterrows():\n",
    "        data = get_binance_data(pair['symbol'], interval, start_str, end_str)\n",
    "        df = convert_to_dataframe(data).sort_values(by = 'close_time', ascending = True)\n",
    "        df['symbol'] = pair['symbol']\n",
    "        df['base_currency'] = pair['base_currency']\n",
    "        df['quote_currency'] = pair['quote_currency']\n",
    "        df['monetary_volume'] = df['mid'].fillna(0) * df['volume'].fillna(0)\n",
    "        # Export the DataFrame to the SQLite database\n",
    "        df.to_sql('market_data', con=engine, index=False, if_exists='append')\n",
    "\n",
    "        pbar.update(df.shape[0])"
   ]
  }
 ],
 "metadata": {
  "colab": {
   "provenance": [
    {
     "file_id": "1JymIsZab17JwT5TgldRAKsth8JczsomN",
     "timestamp": 1722704420207
    }
   ],
   "toc_visible": true
  },
  "kernelspec": {
   "display_name": "Python 3 (ipykernel)",
   "language": "python",
   "name": "python3"
  },
  "language_info": {
   "codemirror_mode": {
    "name": "ipython",
    "version": 3
   },
   "file_extension": ".py",
   "mimetype": "text/x-python",
   "name": "python",
   "nbconvert_exporter": "python",
   "pygments_lexer": "ipython3",
   "version": "3.12.4"
  }
 },
 "nbformat": 4,
 "nbformat_minor": 5
}
