{
 "cells": [
  {
   "cell_type": "markdown",
   "metadata": {
    "id": "pJt3rkCEzut0"
   },
   "source": [
    "# Analysis_of_financial_performance"
   ]
  },
  {
   "cell_type": "markdown",
   "metadata": {
    "id": "1k3biAt4Q67a"
   },
   "source": [
    "# Modules"
   ]
  },
  {
   "cell_type": "code",
   "execution_count": null,
   "metadata": {
    "executionInfo": {
     "elapsed": 575,
     "status": "ok",
     "timestamp": 1723444344759,
     "user": {
      "displayName": "Anh-Tuan NGUYEN",
      "userId": "04606402566845556729"
     },
     "user_tz": -60
    },
    "id": "50vEYMqyhjdE"
   },
   "outputs": [],
   "source": [
    "from IPython.core.interactiveshell import InteractiveShell\n",
    "InteractiveShell.ast_node_interactivity = \"all\"\n",
    "import pandas as pd\n",
    "import os, re\n",
    "\n",
    "pd.set_option('display.max_rows', None)\n",
    "pd.set_option('display.max_columns', None)\n",
    "pd.set_option('display.max_colwidth', None)\n",
    "pd.set_option('display.float_format', '{:.20f}'.format)\n",
    "\n",
    "from sklearn.metrics import mean_squared_error, mean_absolute_error, r2_score, mean_absolute_percentage_error\n",
    "import re\n",
    "from matplotlib.dates import DateFormatter\n",
    "import matplotlib.dates as mdates\n",
    "from scipy import stats\n",
    "from scipy.stats import ttest_ind\n",
    "\n",
    "\n",
    "from datetime import datetime, timedelta\n",
    "\n",
    "from tqdm import tqdm\n",
    "import numpy as np\n",
    "import random\n",
    "from scipy.stats import pearsonr\n",
    "from statsmodels.tsa.stattools import adfuller, coint, acf\n",
    "import statsmodels.api as sm\n",
    "from statsmodels.graphics.tsaplots import plot_acf, plot_pacf\n",
    "\n",
    "import matplotlib.pyplot as plt\n",
    "import matplotlib.dates as mdates\n",
    "from matplotlib.dates import DateFormatter\n",
    "import seaborn as sns\n",
    "\n",
    "import warnings\n",
    "warnings.filterwarnings('ignore')\n",
    "\n"
   ]
  },
  {
   "cell_type": "code",
   "execution_count": null,
   "metadata": {
    "colab": {
     "base_uri": "https://localhost:8080/"
    },
    "executionInfo": {
     "elapsed": 2053,
     "status": "ok",
     "timestamp": 1723444347422,
     "user": {
      "displayName": "Anh-Tuan NGUYEN",
      "userId": "04606402566845556729"
     },
     "user_tz": -60
    },
    "id": "nQJ22qq_ka1l",
    "outputId": "1d684d76-94f5-400b-81d3-ca814e4d9866"
   },
   "outputs": [],
   "source": [
    "from google.colab import drive\n",
    "import os\n",
    "import shutil\n",
    "\n",
    "# Mount Google Drive\n",
    "drive.mount('/content/drive')\n"
   ]
  },
  {
   "cell_type": "code",
   "execution_count": null,
   "metadata": {
    "colab": {
     "base_uri": "https://localhost:8080/"
    },
    "executionInfo": {
     "elapsed": 365,
     "status": "ok",
     "timestamp": 1723444402310,
     "user": {
      "displayName": "Anh-Tuan NGUYEN",
      "userId": "04606402566845556729"
     },
     "user_tz": -60
    },
    "id": "QM8J0ftwkeOP",
    "outputId": "7d87ffb5-cf1b-4575-fbab-97b55a14e587"
   },
   "outputs": [],
   "source": [
    "cd /content/drive/MyDrive/MSC_YORK/PROJECT/"
   ]
  },
  {
   "cell_type": "code",
   "execution_count": null,
   "metadata": {
    "colab": {
     "base_uri": "https://localhost:8080/",
     "height": 36
    },
    "executionInfo": {
     "elapsed": 392,
     "status": "ok",
     "timestamp": 1723444808862,
     "user": {
      "displayName": "Anh-Tuan NGUYEN",
      "userId": "04606402566845556729"
     },
     "user_tz": -60
    },
    "id": "ld7ev-TvkkWr",
    "outputId": "6173ba74-97d1-4972-c951-b627e2c8d6d0"
   },
   "outputs": [],
   "source": [
    "pwd"
   ]
  },
  {
   "cell_type": "markdown",
   "metadata": {
    "id": "B7sTqZn3vfiT"
   },
   "source": [
    "# Pre-processing"
   ]
  },
  {
   "cell_type": "markdown",
   "metadata": {
    "id": "wSgc0STCqjW3"
   },
   "source": [
    "## Collect metrics"
   ]
  },
  {
   "cell_type": "code",
   "execution_count": null,
   "metadata": {
    "colab": {
     "base_uri": "https://localhost:8080/",
     "height": 400
    },
    "executionInfo": {
     "elapsed": 1336,
     "status": "ok",
     "timestamp": 1723444348755,
     "user": {
      "displayName": "Anh-Tuan NGUYEN",
      "userId": "04606402566845556729"
     },
     "user_tz": -60
    },
    "id": "5TRcy6GBqKXU",
    "outputId": "921d0961-dcc6-43b5-a154-da9b9e9ac71c"
   },
   "outputs": [],
   "source": [
    "back_testing_results = pd.read_csv(\"BACKTESTING/back_testing_results.csv\")\n",
    "back_testing_results = back_testing_results.loc[(back_testing_results['ai_algo-annualized_volatility'] >0) & (back_testing_results['standard_algo-annualized_volatility'] > 0.00000000000000000000)]\n",
    "back_testing_results.head(10)\n"
   ]
  },
  {
   "cell_type": "code",
   "execution_count": null,
   "metadata": {
    "colab": {
     "base_uri": "https://localhost:8080/",
     "height": 206
    },
    "executionInfo": {
     "elapsed": 13,
     "status": "ok",
     "timestamp": 1723444348755,
     "user": {
      "displayName": "Anh-Tuan NGUYEN",
      "userId": "04606402566845556729"
     },
     "user_tz": -60
    },
    "id": "YR5t2Bw7ok_d",
    "outputId": "cd4572d5-edf8-44fb-a634-1c4d8642db4a"
   },
   "outputs": [],
   "source": [
    "back_testing_results[['ai_algo-annualized_return','standard_algo-annualized_return']].tail()"
   ]
  },
  {
   "cell_type": "markdown",
   "metadata": {
    "id": "o6xV2h_ra230"
   },
   "source": [
    "## Final dataset"
   ]
  },
  {
   "cell_type": "code",
   "execution_count": null,
   "metadata": {
    "executionInfo": {
     "elapsed": 12,
     "status": "ok",
     "timestamp": 1723444348755,
     "user": {
      "displayName": "Anh-Tuan NGUYEN",
      "userId": "04606402566845556729"
     },
     "user_tz": -60
    },
    "id": "w66nzC52bNua"
   },
   "outputs": [],
   "source": [
    "back_testing_results['ai_algo-max_drawdown'] = abs(back_testing_results['ai_algo-max_drawdown'])\n",
    "back_testing_results['standard_algo-max_drawdown'] = abs(back_testing_results['standard_algo-max_drawdown'])"
   ]
  },
  {
   "cell_type": "code",
   "execution_count": null,
   "metadata": {
    "executionInfo": {
     "elapsed": 12,
     "status": "ok",
     "timestamp": 1723444348756,
     "user": {
      "displayName": "Anh-Tuan NGUYEN",
      "userId": "04606402566845556729"
     },
     "user_tz": -60
    },
    "id": "tgs5wcwdKcJy"
   },
   "outputs": [],
   "source": [
    "back_testing_results['ai_algo-fees'] = abs(back_testing_results['ai_algo-fees'])\n",
    "back_testing_results['standard_algo-fees'] = abs(back_testing_results['standard_algo-fees'])"
   ]
  },
  {
   "cell_type": "code",
   "execution_count": null,
   "metadata": {
    "executionInfo": {
     "elapsed": 12,
     "status": "ok",
     "timestamp": 1723444348756,
     "user": {
      "displayName": "Anh-Tuan NGUYEN",
      "userId": "04606402566845556729"
     },
     "user_tz": -60
    },
    "id": "crnVY9FlxLCf"
   },
   "outputs": [],
   "source": [
    "back_testing_results['ai_algo-num_trades_is_positive'] = back_testing_results['ai_algo-num_trades'] > 0"
   ]
  },
  {
   "cell_type": "code",
   "execution_count": null,
   "metadata": {
    "colab": {
     "base_uri": "https://localhost:8080/",
     "height": 243
    },
    "executionInfo": {
     "elapsed": 12,
     "status": "ok",
     "timestamp": 1723444348756,
     "user": {
      "displayName": "Anh-Tuan NGUYEN",
      "userId": "04606402566845556729"
     },
     "user_tz": -60
    },
    "id": "s6gPANIzuV2x",
    "outputId": "b61d750a-5ac1-47cd-f0ce-0f116d8a48b0"
   },
   "outputs": [],
   "source": [
    "back_testing_results.head()"
   ]
  },
  {
   "cell_type": "code",
   "execution_count": null,
   "metadata": {
    "colab": {
     "base_uri": "https://localhost:8080/"
    },
    "executionInfo": {
     "elapsed": 11,
     "status": "ok",
     "timestamp": 1723444348756,
     "user": {
      "displayName": "Anh-Tuan NGUYEN",
      "userId": "04606402566845556729"
     },
     "user_tz": -60
    },
    "id": "8YihWlE2JzSd",
    "outputId": "e99bc482-80a6-4f6a-9e18-9936fd1540c0"
   },
   "outputs": [],
   "source": [
    "columns = [col for col in back_testing_results.columns if ('rmse' not in col) and ('mse' not in col) and ('mae' not in col) and ('r2' not in col) and ('mape' not in col)]\n",
    "columns\n",
    "back_testing_results = back_testing_results[columns]"
   ]
  },
  {
   "cell_type": "code",
   "execution_count": null,
   "metadata": {
    "colab": {
     "base_uri": "https://localhost:8080/",
     "height": 414
    },
    "executionInfo": {
     "elapsed": 1082,
     "status": "ok",
     "timestamp": 1723444349830,
     "user": {
      "displayName": "Anh-Tuan NGUYEN",
      "userId": "04606402566845556729"
     },
     "user_tz": -60
    },
    "id": "RZ5KPMcxqLkt",
    "outputId": "3327725e-476d-4ce8-aade-c2874cc9e889"
   },
   "outputs": [],
   "source": [
    "scope_mae = pd.read_csv(\"EXPLORATIVE_DATA_ANALYSIS/scope.csv\")\n",
    "scope_mae\n",
    "scope = scope_mae[:4].query(\"coin1 !='XRPUSDT'\")"
   ]
  },
  {
   "cell_type": "code",
   "execution_count": null,
   "metadata": {
    "colab": {
     "base_uri": "https://localhost:8080/",
     "height": 163
    },
    "executionInfo": {
     "elapsed": 22,
     "status": "ok",
     "timestamp": 1723444349830,
     "user": {
      "displayName": "Anh-Tuan NGUYEN",
      "userId": "04606402566845556729"
     },
     "user_tz": -60
    },
    "id": "yE121tTPW9e-",
    "outputId": "5110f2c0-1f30-4d2d-ea83-c5f05fe805aa"
   },
   "outputs": [],
   "source": [
    "scope"
   ]
  },
  {
   "cell_type": "code",
   "execution_count": null,
   "metadata": {
    "executionInfo": {
     "elapsed": 21,
     "status": "ok",
     "timestamp": 1723444349831,
     "user": {
      "displayName": "Anh-Tuan NGUYEN",
      "userId": "04606402566845556729"
     },
     "user_tz": -60
    },
    "id": "zlpogHYWtwTd"
   },
   "outputs": [],
   "source": [
    "back_testing_results = back_testing_results.merge(scope, on=['coin1', 'coin2',], how='inner')"
   ]
  },
  {
   "cell_type": "markdown",
   "metadata": {
    "id": "oulgvrLPhCHN"
   },
   "source": [
    "# Functions"
   ]
  },
  {
   "cell_type": "code",
   "execution_count": null,
   "metadata": {
    "executionInfo": {
     "elapsed": 20,
     "status": "ok",
     "timestamp": 1723444349831,
     "user": {
      "displayName": "Anh-Tuan NGUYEN",
      "userId": "04606402566845556729"
     },
     "user_tz": -60
    },
    "id": "NI5T4zpvdiQO"
   },
   "outputs": [],
   "source": [
    "def describe(df, ai_col, standard_col):\n",
    "  \"\"\"\n",
    "    Generate descriptive statistics for AI and standard model's metrics.\n",
    "\n",
    "    Parameters:\n",
    "    ----------\n",
    "    df : pandas.DataFrame\n",
    "        The DataFrame containing the metrics.\n",
    "    ai_col : str\n",
    "        The name of the column with AI model's metrics.\n",
    "    standard_col : str\n",
    "        The name of the column with standard model's metrics.\n",
    "\n",
    "    Returns:\n",
    "    -------\n",
    "    pandas.DataFrame\n",
    "        A DataFrame with descriptive statistics.\n",
    "  \"\"\"\n",
    "  desc_ai = df[ai_col].describe().to_frame().transpose()\n",
    "  desc_std = df[standard_col].describe().to_frame().transpose()\n",
    "\n",
    "  comparison_table = pd.concat([desc_ai, desc_std], axis=0)\n",
    "  comparison_table.index = [ai_col, standard_col]\n",
    "\n",
    "  return comparison_table\n",
    "\n",
    "def find_max_rejection_threshold(df, col,pace=0.01):\n",
    "    \"\"\"\n",
    "    Find the maximum threshold where the null hypothesis (H0) can be rejected.\n",
    "\n",
    "    This function starts with a threshold of 0 and increases it iteratively until the null hypothesis\n",
    "    can no longer be rejected. It returns the last threshold where H0 was rejected.\n",
    "\n",
    "    Parameters:\n",
    "    ----------\n",
    "    df : pandas.DataFrame\n",
    "        The DataFrame containing the data.\n",
    "    col : str\n",
    "        The name of the column to test.\n",
    "\n",
    "    Returns:\n",
    "    -------\n",
    "    max_threshold : float\n",
    "        The maximum threshold where the null hypothesis can still be rejected.\n",
    "    \"\"\"\n",
    "    import scipy.stats as stats\n",
    "\n",
    "    # Significance level\n",
    "    alpha = 0.05\n",
    "\n",
    "    # Initial threshold\n",
    "    threshold = 0\n",
    "    max_threshold = 0\n",
    "\n",
    "    # Check normality of the data\n",
    "    _, p_value_col1 = stats.shapiro(df[col])\n",
    "    print(f'P-value for normality test on {col}: {p_value_col1}')\n",
    "\n",
    "    normally_distributed = p_value_col1 > alpha\n",
    "\n",
    "    # Continue increasing the threshold until the null hypothesis is not rejected\n",
    "    while True:\n",
    "        if normally_distributed:\n",
    "            # Perform one-sample t-test for normally distributed data\n",
    "            result = stats.ttest_1samp(a=df[col], popmean=threshold, alternative='greater')\n",
    "            p_value = result.pvalue\n",
    "        else:\n",
    "            # Perform Wilcoxon signed-rank test for non-normally distributed data\n",
    "            _, p_value = stats.wilcoxon(df[col] - threshold, alternative='greater')\n",
    "\n",
    "        if p_value < alpha:\n",
    "            max_threshold = threshold\n",
    "        else:\n",
    "            break\n",
    "\n",
    "        # Increase the threshold slightly\n",
    "        threshold += pace\n",
    "\n",
    "    print(f\"The maximum threshold where the null hypothesis is rejected: {max_threshold}\")\n",
    "    return max_threshold\n",
    "\n",
    "\n",
    "\n",
    "def t_test(df,col,threshold):\n",
    "  \"\"\"\n",
    "    Perform a one-sample t-test to compare the mean or median of a column to a threshold.\n",
    "\n",
    "    Parameters:\n",
    "    ----------\n",
    "    df : pandas.DataFrame\n",
    "        The DataFrame containing the data.\n",
    "    col : str\n",
    "        The name of the column to test.\n",
    "    threshold : float\n",
    "        The threshold to compare against.\n",
    "  \"\"\"\n",
    "  import scipy.stats as stats\n",
    "  alpha = 0.05\n",
    "\n",
    "  result_df = pd.DataFrame([])\n",
    "  result_df['col'] = [col]\n",
    "  result_df['threshold'] = [threshold]\n",
    "  result_df['normality_test_p_value_col'] = [None]\n",
    "  result_df['is_normal'] = [None]\n",
    "  result_df['t_stat'] = [None]\n",
    "  result_df['p_value_ttest'] = [None]\n",
    "  result_df['wilcoxon_stat'] = [None]\n",
    "  result_df['p_value_wilcoxon']  = [None]\n",
    "\n",
    "  # Check normality\n",
    "  _, p_value_col = stats.shapiro(df[col])\n",
    "  print(f'P-value for normality test on {col}: {p_value_col}')\n",
    "  result_df['normality_test_p_value_col'] = [p_value_col]\n",
    "\n",
    "\n",
    "  if p_value_col > alpha:\n",
    "    print('The distribution is normally distributed.')\n",
    "    normal = 'yes'\n",
    "\n",
    "    # Perform one-sample t-test\n",
    "    result = stats.ttest_1samp(a=df[col], popmean=threshold, alternative='greater')\n",
    "\n",
    "    # Print the results\n",
    "    print(f\"t-statistic: {result.statistic:.2f}\")\n",
    "    print(f\"p-value: {result.pvalue:.3f}\")\n",
    "\n",
    "    result_df['t_stat'] = [result.statistic]\n",
    "    result_df['p_value_ttest'] = [result.pvalue]\n",
    "\n",
    "    # Interpretation\n",
    "    alpha = 0.05  # Significance level\n",
    "    if result.pvalue < alpha:\n",
    "      print(f'Reject the null hypothesis: The mean is significantly greater than {threshold}.')\n",
    "      decision = 'Reject H0'\n",
    "    else:\n",
    "      print(f'Fail to reject the null hypothesis: The mean is not significantly greater than {threshold}.')\n",
    "      decision = 'Fail to reject H0'\n",
    "  else:\n",
    "    print('The series is not normally distributed.')\n",
    "    normal = 'no'\n",
    "\n",
    "    # Perform the Wilcoxon signed-rank test\n",
    "    wilcoxon_stat, p_value_wilcoxon = stats.wilcoxon(df[col] - threshold, alternative='greater')\n",
    "\n",
    "    print(f'Wilcoxon statistic: {wilcoxon_stat}')\n",
    "    print(f'P-value for the Wilcoxon signed-rank test: {p_value_wilcoxon}')\n",
    "    result_df['wilcoxon_stat'] = [wilcoxon_stat]\n",
    "    result_df['p_value_wilcoxon'] = [p_value_wilcoxon]\n",
    "\n",
    "    # Interpretation\n",
    "    if p_value_wilcoxon < alpha:\n",
    "      print(f'Reject the null hypothesis: The median is significantly greater than {threshold}.')\n",
    "      decision = 'Reject H0'\n",
    "    else:\n",
    "      print(f'Fail to reject the null hypothesis: The median is not significantly greater than {threshold}.')\n",
    "      decision = 'Fail to reject H0'\n",
    "\n",
    "  result_df['is_normal'] = [normal]\n",
    "  result_df['decision'] = [decision]\n",
    "  return result_df\n",
    "\n",
    "\n",
    "\n",
    "def two_sample_t_test(df, col1, col2):\n",
    "    \"\"\"\n",
    "    Perform a two-sample t-test to compare AI and standard model's metrics.\n",
    "\n",
    "    Parameters:\n",
    "    ----------\n",
    "    df : pandas.DataFrame\n",
    "        The DataFrame containing the metrics.\n",
    "    ai_col : str\n",
    "        The name of the column with AI model's metrics.\n",
    "    standard_col : str\n",
    "        The name of the column with standard model's metrics.\n",
    "    \"\"\"\n",
    "    from scipy import stats\n",
    "    alpha = 0.05\n",
    "    result_df = pd.DataFrame([])\n",
    "    result_df['col1'] = [col1]\n",
    "    result_df['col2'] = [col2]\n",
    "    result_df['normality_test_p_value_col1'] = [None]\n",
    "    result_df['normality_test_p_value_col2'] = [None]\n",
    "    result_df['is_normal'] = [None]\n",
    "    result_df['p_value_equal_variance_levene_test'] = [None]\n",
    "    result_df['t_stat'] = [None]\n",
    "    result_df['p_value_ttest'] = [None]\n",
    "    result_df['u_stat'] = [None]\n",
    "    result_df['p_value_mannwhitney'] = [None]\n",
    "\n",
    "\n",
    "    # Check normality\n",
    "    _, p_value_col1 = stats.shapiro(df[col1])\n",
    "    _, p_value_col2 = stats.shapiro(df[col2])\n",
    "\n",
    "    print(f'P-value for normality test on {col1}: {p_value_col1}')\n",
    "    print(f'P-value for normality test on {col2}: {p_value_col2}')\n",
    "\n",
    "    result_df['normality_test_p_value_col1'] = [p_value_col1]\n",
    "    result_df['normality_test_p_value_col2'] = [p_value_col2]\n",
    "\n",
    "    if p_value_col1 > alpha and p_value_col2 > alpha:\n",
    "        print('Both groups are normally distributed.')\n",
    "        normal = 'yes'\n",
    "\n",
    "        # Perform Levene's test for equal variances\n",
    "        _, p_value_var = stats.levene(df[col1], df[col2])\n",
    "        print(f'P-value for equal variance test: {p_value_var}')\n",
    "        result_df['p_value_equal_variance_levene_test'] = [p_value_var]\n",
    "\n",
    "        # Perform the one-tailed two-sample t-test\n",
    "        if p_value_var > alpha:  # Variances are equal\n",
    "            t_stat, p_value_ttest = stats.ttest_ind(df[col1], df[col2], equal_var=True, alternative='greater')\n",
    "        else:  # Variances are not equal\n",
    "            t_stat, p_value_ttest = stats.ttest_ind(df[col1], df[col2], equal_var=False, alternative='greater')\n",
    "\n",
    "        print(f'T-statistic: {t_stat}')\n",
    "        print(f'P-value for the t-test: {p_value_ttest}')\n",
    "        result_df['t_stat'] = [t_stat]\n",
    "        result_df['p_value_ttest'] = [p_value_ttest]\n",
    "\n",
    "        # Interpretation\n",
    "        if p_value_ttest < alpha:\n",
    "            print(f'Reject the null hypothesis: The mean of {col1} is significantly greater than the mean of {col2}.')\n",
    "            decision = 'Reject H0'\n",
    "        else:\n",
    "            print(f'Fail to reject the null hypothesis: The mean of {col1} is not significantly greater than the mean of {col2}.')\n",
    "            decision = 'Fail to reject H0'\n",
    "\n",
    "    else:\n",
    "        print('At least one of the groups is not normally distributed.')\n",
    "        normal = 'no'\n",
    "\n",
    "        # Perform the Mann-Whitney U test\n",
    "        u_stat, p_value_mannwhitney = stats.mannwhitneyu(df[col1], df[col2], alternative='greater')\n",
    "\n",
    "        print(f'U-statistic: {u_stat}')\n",
    "        print(f'P-value for the Mann-Whitney U test: {p_value_mannwhitney}')\n",
    "        result_df['u_stat'] = [u_stat]\n",
    "        result_df['p_value_mannwhitney'] = [p_value_mannwhitney]\n",
    "\n",
    "        # Interpretation\n",
    "        if p_value_mannwhitney < alpha:\n",
    "            print(f'Reject the null hypothesis: The median of {col1} is significantly greater than the median of {col2}.')\n",
    "            decision = 'Reject H0'\n",
    "        else:\n",
    "            print(f'Fail to reject the null hypothesis: The median of {col1} is not significantly greater than the median of {col2}.')\n",
    "            decision = 'Fail to reject H0'\n",
    "\n",
    "\n",
    "    result_df['is_normal'] = [normal]\n",
    "    result_df['decision'] = [decision]\n",
    "    return result_df\n",
    "\n",
    "\n",
    "def plot_metrics(df, ai_col, standard_col,metrics_name):\n",
    "  \"\"\"\n",
    "    Plot the distribution of AI and standard model's metrics.\n",
    "\n",
    "    Parameters:\n",
    "    ----------\n",
    "    df : pandas.DataFrame\n",
    "        The DataFrame containing the metrics.\n",
    "    ai_col : str\n",
    "        The name of the column with AI model's metrics.\n",
    "    standard_col : str\n",
    "        The name of the column with standard model's metrics.\n",
    "    metrics_name : str\n",
    "        The name of the metrics to plot.\n",
    "  \"\"\"\n",
    "  plt.figure(figsize=(20, 10))\n",
    "  plt.hist(df[ai_col], bins=range(-100, 105, 5), alpha=0.5, label=ai_col)\n",
    "  plt.hist(df[standard_col], bins=range(-100, 105, 5), alpha=0.5, label=standard_col)\n",
    "  plt.axvline(df[ai_col].mean(), color='blue', linestyle='-', linewidth=2, label=f'{ai_col}-Mean')\n",
    "  plt.axvline(df[ai_col].median(), color='blue', linestyle='--', linewidth=2, label=f'{ai_col}-Median')\n",
    "  plt.axvline(df[standard_col].mean(), color='red', linestyle='-', linewidth=2, label=f'{standard_col}-Mean')\n",
    "  plt.axvline(df[standard_col].median(), color='red', linestyle='--', linewidth=2, label=f'{standard_col}-Median')\n",
    "\n",
    "  # Set the title and labels\n",
    "  plt.title(f'Distribution of {metrics_name}')\n",
    "  plt.xlabel(metrics_name)\n",
    "  plt.ylabel('Frequency')\n",
    "\n",
    "  # Rotate x-axis labels\n",
    "  plt.xticks(rotation=45)\n",
    "\n",
    "  # Add a legend\n",
    "  plt.legend()\n",
    "\n",
    "  # Display the plot\n",
    "  plt.tight_layout()\n",
    "  plt.savefig(f'EXPLORATIVE_DATA_ANALYSIS/{metrics_name}_distribution_plot.png')\n",
    "\n",
    "  # plt.show()\n",
    "\n"
   ]
  },
  {
   "cell_type": "markdown",
   "metadata": {
    "id": "eajbJx4xQccG"
   },
   "source": [
    "# Set empty df"
   ]
  },
  {
   "cell_type": "code",
   "execution_count": null,
   "metadata": {
    "executionInfo": {
     "elapsed": 20,
     "status": "ok",
     "timestamp": 1723444349831,
     "user": {
      "displayName": "Anh-Tuan NGUYEN",
      "userId": "04606402566845556729"
     },
     "user_tz": -60
    },
    "id": "SdPveDAHNGaL"
   },
   "outputs": [],
   "source": [
    "all_stats = pd.DataFrame()\n",
    "two_samples_result_df = pd.DataFrame()\n",
    "one_sample_result_df = pd.DataFrame()"
   ]
  },
  {
   "cell_type": "markdown",
   "metadata": {
    "id": "aB7zeTz_y3Lt"
   },
   "source": [
    "# Sharpe ratio"
   ]
  },
  {
   "cell_type": "code",
   "execution_count": null,
   "metadata": {
    "executionInfo": {
     "elapsed": 19,
     "status": "ok",
     "timestamp": 1723444349831,
     "user": {
      "displayName": "Anh-Tuan NGUYEN",
      "userId": "04606402566845556729"
     },
     "user_tz": -60
    },
    "id": "ZfatAucD8onk"
   },
   "outputs": [],
   "source": [
    "back_testing_results['ai_algo-sharpe_ratio'] = back_testing_results['ai_algo-sharpe_ratio'].astype('float64')"
   ]
  },
  {
   "cell_type": "code",
   "execution_count": null,
   "metadata": {
    "colab": {
     "base_uri": "https://localhost:8080/",
     "height": 209
    },
    "executionInfo": {
     "elapsed": 19,
     "status": "ok",
     "timestamp": 1723444349831,
     "user": {
      "displayName": "Anh-Tuan NGUYEN",
      "userId": "04606402566845556729"
     },
     "user_tz": -60
    },
    "id": "DbX1M60pEWdX",
    "outputId": "5fdf212e-775e-4fe6-9703-2ba20930a44f"
   },
   "outputs": [],
   "source": [
    "back_testing_results.coin1.value_counts()"
   ]
  },
  {
   "cell_type": "code",
   "execution_count": null,
   "metadata": {
    "colab": {
     "base_uri": "https://localhost:8080/",
     "height": 167
    },
    "executionInfo": {
     "elapsed": 18,
     "status": "ok",
     "timestamp": 1723444349831,
     "user": {
      "displayName": "Anh-Tuan NGUYEN",
      "userId": "04606402566845556729"
     },
     "user_tz": -60
    },
    "id": "q-RmU1vxfndz",
    "outputId": "539bab55-fd4a-4150-b8af-05003da9c784"
   },
   "outputs": [],
   "source": [
    "stats = describe(back_testing_results,'ai_algo-sharpe_ratio', 'standard_algo-sharpe_ratio')\n",
    "stats\n",
    "all_stats = pd.concat([stats,all_stats], axis = 0)"
   ]
  },
  {
   "cell_type": "code",
   "execution_count": null,
   "metadata": {
    "colab": {
     "base_uri": "https://localhost:8080/"
    },
    "executionInfo": {
     "elapsed": 18,
     "status": "ok",
     "timestamp": 1723444349832,
     "user": {
      "displayName": "Anh-Tuan NGUYEN",
      "userId": "04606402566845556729"
     },
     "user_tz": -60
    },
    "id": "bOgnecm3omZk",
    "outputId": "cfef4096-f43f-41f5-e64d-9f562c5be8de"
   },
   "outputs": [],
   "source": [
    "two_samples_result_tmp_df =   two_sample_t_test(back_testing_results, 'ai_algo-sharpe_ratio', 'standard_algo-sharpe_ratio')\n",
    "two_samples_result_df = pd.concat([two_samples_result_tmp_df,two_samples_result_df], axis = 0)\n",
    "two_samples_result_tmp_df =  two_sample_t_test(back_testing_results, 'standard_algo-sharpe_ratio', 'ai_algo-sharpe_ratio')\n",
    "two_samples_result_df = pd.concat([two_samples_result_tmp_df,two_samples_result_df], axis = 0)"
   ]
  },
  {
   "cell_type": "code",
   "execution_count": null,
   "metadata": {
    "colab": {
     "base_uri": "https://localhost:8080/",
     "height": 421
    },
    "executionInfo": {
     "elapsed": 2735,
     "status": "ok",
     "timestamp": 1723444352554,
     "user": {
      "displayName": "Anh-Tuan NGUYEN",
      "userId": "04606402566845556729"
     },
     "user_tz": -60
    },
    "id": "CIiJ1DsZxtZp",
    "outputId": "03c10061-999d-4b36-f6c4-341dc57ba8fd"
   },
   "outputs": [],
   "source": [
    "threshold = find_max_rejection_threshold(back_testing_results, 'ai_algo-sharpe_ratio')\n",
    "one_sample_result_tmp_df = t_test(back_testing_results,'ai_algo-sharpe_ratio',threshold)\n",
    "one_sample_result_df = pd.concat([one_sample_result_tmp_df,one_sample_result_df], axis = 0)\n",
    "print(\"####################################\")\n",
    "threshold = find_max_rejection_threshold(back_testing_results, 'standard_algo-sharpe_ratio')\n",
    "one_sample_result_tmp_df = t_test(back_testing_results,'standard_algo-sharpe_ratio',threshold)\n",
    "one_sample_result_df = pd.concat([one_sample_result_tmp_df,one_sample_result_df], axis = 0)\n",
    "one_sample_result_df"
   ]
  },
  {
   "cell_type": "code",
   "execution_count": null,
   "metadata": {
    "colab": {
     "base_uri": "https://localhost:8080/",
     "height": 674
    },
    "executionInfo": {
     "elapsed": 1127,
     "status": "ok",
     "timestamp": 1723444353674,
     "user": {
      "displayName": "Anh-Tuan NGUYEN",
      "userId": "04606402566845556729"
     },
     "user_tz": -60
    },
    "id": "RZrZwPubqTV-",
    "outputId": "8e38fa08-1f84-4c3f-da82-25de866d671b"
   },
   "outputs": [],
   "source": [
    "plot_metrics(back_testing_results, 'ai_algo-sharpe_ratio', 'standard_algo-sharpe_ratio','sharpe_ratio')"
   ]
  },
  {
   "cell_type": "code",
   "execution_count": null,
   "metadata": {
    "executionInfo": {
     "elapsed": 11,
     "status": "ok",
     "timestamp": 1723444353674,
     "user": {
      "displayName": "Anh-Tuan NGUYEN",
      "userId": "04606402566845556729"
     },
     "user_tz": -60
    },
    "id": "rinnvGS8nilj"
   },
   "outputs": [],
   "source": []
  },
  {
   "cell_type": "markdown",
   "metadata": {
    "id": "MAXRhVhWni5h"
   },
   "source": [
    "# Annualized return"
   ]
  },
  {
   "cell_type": "code",
   "execution_count": null,
   "metadata": {
    "colab": {
     "base_uri": "https://localhost:8080/",
     "height": 167
    },
    "executionInfo": {
     "elapsed": 12,
     "status": "ok",
     "timestamp": 1723444353674,
     "user": {
      "displayName": "Anh-Tuan NGUYEN",
      "userId": "04606402566845556729"
     },
     "user_tz": -60
    },
    "id": "snBlA1dzni5i",
    "outputId": "82d52b80-9941-46c7-e71e-9e0508c206b0"
   },
   "outputs": [],
   "source": [
    "stats = describe(back_testing_results,'ai_algo-annualized_return', 'standard_algo-annualized_return')\n",
    "stats\n",
    "all_stats = pd.concat([stats,all_stats], axis = 0)\n"
   ]
  },
  {
   "cell_type": "code",
   "execution_count": null,
   "metadata": {
    "colab": {
     "base_uri": "https://localhost:8080/"
    },
    "executionInfo": {
     "elapsed": 11,
     "status": "ok",
     "timestamp": 1723444353675,
     "user": {
      "displayName": "Anh-Tuan NGUYEN",
      "userId": "04606402566845556729"
     },
     "user_tz": -60
    },
    "id": "1as0B9Jfni5i",
    "outputId": "d8aab8ae-3d06-4cb8-dfdd-913d6d0bd21b"
   },
   "outputs": [],
   "source": [
    "two_samples_result_tmp_df =   two_sample_t_test(back_testing_results, 'ai_algo-annualized_return','standard_algo-annualized_return')\n",
    "two_samples_result_df = pd.concat([two_samples_result_tmp_df,two_samples_result_df], axis = 0)\n",
    "two_samples_result_tmp_df =  two_sample_t_test(back_testing_results, 'standard_algo-annualized_return','ai_algo-annualized_return')\n",
    "two_samples_result_df = pd.concat([two_samples_result_tmp_df,two_samples_result_df], axis = 0)"
   ]
  },
  {
   "cell_type": "code",
   "execution_count": null,
   "metadata": {
    "colab": {
     "base_uri": "https://localhost:8080/"
    },
    "executionInfo": {
     "elapsed": 420,
     "status": "ok",
     "timestamp": 1723444354086,
     "user": {
      "displayName": "Anh-Tuan NGUYEN",
      "userId": "04606402566845556729"
     },
     "user_tz": -60
    },
    "id": "rw8XKQkEni5j",
    "outputId": "f99f336b-5c4c-4163-872b-6f8e1c4cc173"
   },
   "outputs": [],
   "source": [
    "threshold = find_max_rejection_threshold(back_testing_results, 'ai_algo-annualized_return')\n",
    "one_sample_result_tmp_df = one_sample_result_tmp_df = t_test(back_testing_results,'ai_algo-annualized_return',threshold)\n",
    "one_sample_result_df = pd.concat([one_sample_result_tmp_df,one_sample_result_df], axis = 0)\n",
    "print(\"####################################\")\n",
    "threshold = find_max_rejection_threshold(back_testing_results, 'standard_algo-annualized_return')\n",
    "one_sample_result_tmp_df = t_test(back_testing_results,'standard_algo-annualized_return',threshold)\n",
    "one_sample_result_df = pd.concat([one_sample_result_tmp_df,one_sample_result_df], axis = 0)"
   ]
  },
  {
   "cell_type": "code",
   "execution_count": null,
   "metadata": {
    "colab": {
     "base_uri": "https://localhost:8080/",
     "height": 674
    },
    "executionInfo": {
     "elapsed": 606,
     "status": "ok",
     "timestamp": 1723444354687,
     "user": {
      "displayName": "Anh-Tuan NGUYEN",
      "userId": "04606402566845556729"
     },
     "user_tz": -60
    },
    "id": "tlVeYlkXni5k",
    "outputId": "f85e8ec1-90e8-4edd-e355-32bbd33ce077"
   },
   "outputs": [],
   "source": [
    "plot_metrics(back_testing_results,  'ai_algo-annualized_return','standard_algo-annualized_return','sharpe_ratio')"
   ]
  },
  {
   "cell_type": "markdown",
   "metadata": {
    "id": "khj1CZPoHp0G"
   },
   "source": [
    "# annualised volatility"
   ]
  },
  {
   "cell_type": "code",
   "execution_count": null,
   "metadata": {
    "colab": {
     "base_uri": "https://localhost:8080/",
     "height": 167
    },
    "executionInfo": {
     "elapsed": 21,
     "status": "ok",
     "timestamp": 1723444354687,
     "user": {
      "displayName": "Anh-Tuan NGUYEN",
      "userId": "04606402566845556729"
     },
     "user_tz": -60
    },
    "id": "D0Z5r6OqHp0H",
    "outputId": "8a1e06e0-7611-433d-ef23-9f14f5f6172f"
   },
   "outputs": [],
   "source": [
    "stats = describe(back_testing_results,'ai_algo-annualized_volatility', 'standard_algo-annualized_volatility')\n",
    "stats\n",
    "all_stats = pd.concat([stats,all_stats], axis = 0)\n"
   ]
  },
  {
   "cell_type": "code",
   "execution_count": null,
   "metadata": {
    "colab": {
     "base_uri": "https://localhost:8080/"
    },
    "executionInfo": {
     "elapsed": 18,
     "status": "ok",
     "timestamp": 1723444354687,
     "user": {
      "displayName": "Anh-Tuan NGUYEN",
      "userId": "04606402566845556729"
     },
     "user_tz": -60
    },
    "id": "cp8JybSpHp0H",
    "outputId": "84e6adb1-da33-4da1-f383-b3c36484731a"
   },
   "outputs": [],
   "source": [
    "two_samples_result_tmp_df =   two_sample_t_test(back_testing_results, 'ai_algo-annualized_volatility','standard_algo-annualized_volatility')\n",
    "two_samples_result_df = pd.concat([two_samples_result_tmp_df,two_samples_result_df], axis = 0)\n",
    "two_samples_result_tmp_df =  two_sample_t_test(back_testing_results,'standard_algo-annualized_volatility','ai_algo-annualized_volatility')\n",
    "two_samples_result_df = pd.concat([two_samples_result_tmp_df,two_samples_result_df], axis = 0)"
   ]
  },
  {
   "cell_type": "code",
   "execution_count": null,
   "metadata": {
    "colab": {
     "base_uri": "https://localhost:8080/"
    },
    "executionInfo": {
     "elapsed": 499,
     "status": "ok",
     "timestamp": 1723444355173,
     "user": {
      "displayName": "Anh-Tuan NGUYEN",
      "userId": "04606402566845556729"
     },
     "user_tz": -60
    },
    "id": "CTb8QTh9y8Aj",
    "outputId": "614aa507-9afb-4877-d852-3e124bb713e9"
   },
   "outputs": [],
   "source": [
    "threshold = find_max_rejection_threshold(back_testing_results, 'ai_algo-annualized_volatility', pace = 0.001)\n",
    "one_sample_result_tmp_df = t_test(back_testing_results,'ai_algo-annualized_volatility',threshold)\n",
    "one_sample_result_df = pd.concat([one_sample_result_tmp_df,one_sample_result_df], axis = 0)\n",
    "print(\"####################################\")\n",
    "threshold = find_max_rejection_threshold(back_testing_results, 'standard_algo-annualized_volatility', pace = 0.001)\n",
    "one_sample_result_tmp_df = t_test(back_testing_results,'standard_algo-annualized_volatility',threshold)\n",
    "one_sample_result_df = pd.concat([one_sample_result_tmp_df,one_sample_result_df], axis = 0)"
   ]
  },
  {
   "cell_type": "markdown",
   "metadata": {
    "id": "AKBd0v7mUdLg"
   },
   "source": [
    "# Net Pnl"
   ]
  },
  {
   "cell_type": "code",
   "execution_count": null,
   "metadata": {
    "colab": {
     "base_uri": "https://localhost:8080/",
     "height": 167
    },
    "executionInfo": {
     "elapsed": 15,
     "status": "ok",
     "timestamp": 1723444355173,
     "user": {
      "displayName": "Anh-Tuan NGUYEN",
      "userId": "04606402566845556729"
     },
     "user_tz": -60
    },
    "id": "0ex2glqArKY1",
    "outputId": "47f09845-b838-4c4e-94c5-d8f2944e3437"
   },
   "outputs": [],
   "source": [
    "stats = describe(back_testing_results, 'ai_algo-net_pnl', 'standard_algo-net_pnl')\n",
    "stats\n",
    "all_stats = pd.concat([stats,all_stats], axis = 0)\n"
   ]
  },
  {
   "cell_type": "code",
   "execution_count": null,
   "metadata": {
    "colab": {
     "base_uri": "https://localhost:8080/"
    },
    "executionInfo": {
     "elapsed": 13,
     "status": "ok",
     "timestamp": 1723444355173,
     "user": {
      "displayName": "Anh-Tuan NGUYEN",
      "userId": "04606402566845556729"
     },
     "user_tz": -60
    },
    "id": "dzekMTNarKY1",
    "outputId": "3b79489a-8072-44b3-cc85-18c5619c9bb9"
   },
   "outputs": [],
   "source": [
    "two_samples_result_tmp_df =   two_sample_t_test(back_testing_results, 'ai_algo-net_pnl','standard_algo-net_pnl')\n",
    "two_samples_result_df = pd.concat([two_samples_result_tmp_df,two_samples_result_df], axis = 0)\n",
    "two_samples_result_tmp_df =  two_sample_t_test(back_testing_results,'standard_algo-net_pnl','ai_algo-net_pnl')\n",
    "two_samples_result_df = pd.concat([two_samples_result_tmp_df,two_samples_result_df], axis = 0)"
   ]
  },
  {
   "cell_type": "code",
   "execution_count": null,
   "metadata": {
    "colab": {
     "base_uri": "https://localhost:8080/"
    },
    "executionInfo": {
     "elapsed": 3349,
     "status": "ok",
     "timestamp": 1723444358513,
     "user": {
      "displayName": "Anh-Tuan NGUYEN",
      "userId": "04606402566845556729"
     },
     "user_tz": -60
    },
    "id": "8aiSt2PorKY0",
    "outputId": "bd488355-8ae3-4428-cfe8-c2d058e92d98"
   },
   "outputs": [],
   "source": [
    "threshold = find_max_rejection_threshold(back_testing_results, 'ai_algo-net_pnl')\n",
    "one_sample_result_tmp_df = t_test(back_testing_results,'ai_algo-net_pnl',threshold)\n",
    "one_sample_result_df = pd.concat([one_sample_result_tmp_df,one_sample_result_df], axis = 0)\n",
    "print(\"####################################\")\n",
    "threshold = find_max_rejection_threshold(back_testing_results, 'standard_algo-net_pnl')\n",
    "one_sample_result_tmp_df = t_test(back_testing_results,'standard_algo-net_pnl',threshold)\n",
    "one_sample_result_df = pd.concat([one_sample_result_tmp_df,one_sample_result_df], axis = 0)\n"
   ]
  },
  {
   "cell_type": "code",
   "execution_count": null,
   "metadata": {
    "colab": {
     "base_uri": "https://localhost:8080/",
     "height": 674
    },
    "executionInfo": {
     "elapsed": 1082,
     "status": "ok",
     "timestamp": 1723444359592,
     "user": {
      "displayName": "Anh-Tuan NGUYEN",
      "userId": "04606402566845556729"
     },
     "user_tz": -60
    },
    "id": "onhc5GParKY1",
    "outputId": "dc9d4827-1f27-4fbc-c112-75d822371aa6"
   },
   "outputs": [],
   "source": [
    "plot_metrics(back_testing_results, 'ai_algo-net_pnl', 'standard_algo-net_pnl','net_pnl')"
   ]
  },
  {
   "cell_type": "markdown",
   "metadata": {
    "id": "B_MnGBkRxLCe"
   },
   "source": [
    "# Number of trades"
   ]
  },
  {
   "cell_type": "code",
   "execution_count": null,
   "metadata": {
    "colab": {
     "base_uri": "https://localhost:8080/",
     "height": 167
    },
    "executionInfo": {
     "elapsed": 7,
     "status": "ok",
     "timestamp": 1723444359592,
     "user": {
      "displayName": "Anh-Tuan NGUYEN",
      "userId": "04606402566845556729"
     },
     "user_tz": -60
    },
    "id": "laBPyG3TuzHM",
    "outputId": "57da95b2-7689-4c81-f392-aaf5821f8ffd"
   },
   "outputs": [],
   "source": [
    "stats = describe(back_testing_results, 'ai_algo-num_trades','standard_algo-num_trades')\n",
    "stats\n",
    "all_stats = pd.concat([stats,all_stats], axis = 0)\n"
   ]
  },
  {
   "cell_type": "code",
   "execution_count": null,
   "metadata": {
    "colab": {
     "base_uri": "https://localhost:8080/"
    },
    "executionInfo": {
     "elapsed": 548,
     "status": "ok",
     "timestamp": 1723444360134,
     "user": {
      "displayName": "Anh-Tuan NGUYEN",
      "userId": "04606402566845556729"
     },
     "user_tz": -60
    },
    "id": "jgCPNQ7WBr8v",
    "outputId": "b12bf734-5c40-430f-c654-258ab8784f8f"
   },
   "outputs": [],
   "source": [
    "two_samples_result_tmp_df =   two_sample_t_test(back_testing_results,  'ai_algo-num_trades','standard_algo-num_trades')\n",
    "two_samples_result_df = pd.concat([two_samples_result_tmp_df,two_samples_result_df], axis = 0)\n",
    "two_samples_result_tmp_df =  two_sample_t_test(back_testing_results,'standard_algo-num_trades', 'ai_algo-num_trades')\n",
    "two_samples_result_df = pd.concat([two_samples_result_tmp_df,two_samples_result_df], axis = 0)"
   ]
  },
  {
   "cell_type": "code",
   "execution_count": null,
   "metadata": {
    "colab": {
     "base_uri": "https://localhost:8080/"
    },
    "executionInfo": {
     "elapsed": 420,
     "status": "ok",
     "timestamp": 1723444360545,
     "user": {
      "displayName": "Anh-Tuan NGUYEN",
      "userId": "04606402566845556729"
     },
     "user_tz": -60
    },
    "id": "j7Ax6GsHuzHL",
    "outputId": "8c9730b4-427f-4d53-f5dc-45d14fed5337"
   },
   "outputs": [],
   "source": [
    "threshold = find_max_rejection_threshold(back_testing_results, 'ai_algo-num_trades')\n",
    "one_sample_result_tmp_df = t_test(back_testing_results,'ai_algo-num_trades',threshold)\n",
    "one_sample_result_df = pd.concat([one_sample_result_tmp_df,one_sample_result_df], axis = 0)\n",
    "print(\"####################################\")\n",
    "threshold = find_max_rejection_threshold(back_testing_results, 'standard_algo-num_trades')\n",
    "one_sample_result_tmp_df = t_test(back_testing_results,'standard_algo-num_trades',threshold)\n",
    "one_sample_result_df = pd.concat([one_sample_result_tmp_df,one_sample_result_df], axis = 0)"
   ]
  },
  {
   "cell_type": "code",
   "execution_count": null,
   "metadata": {
    "colab": {
     "base_uri": "https://localhost:8080/",
     "height": 674
    },
    "executionInfo": {
     "elapsed": 1131,
     "status": "ok",
     "timestamp": 1723444361675,
     "user": {
      "displayName": "Anh-Tuan NGUYEN",
      "userId": "04606402566845556729"
     },
     "user_tz": -60
    },
    "id": "35C2zfEsuzHM",
    "outputId": "159cbe51-b60c-4e24-f61a-d52c646210f2"
   },
   "outputs": [],
   "source": [
    "plot_metrics(back_testing_results, 'ai_algo-num_trades','standard_algo-num_trades','number_of_trades')"
   ]
  },
  {
   "cell_type": "markdown",
   "metadata": {
    "id": "w2TeX-FhAdja"
   },
   "source": [
    "# Fees"
   ]
  },
  {
   "cell_type": "code",
   "execution_count": null,
   "metadata": {
    "colab": {
     "base_uri": "https://localhost:8080/",
     "height": 149
    },
    "executionInfo": {
     "elapsed": 11,
     "status": "ok",
     "timestamp": 1723444361675,
     "user": {
      "displayName": "Anh-Tuan NGUYEN",
      "userId": "04606402566845556729"
     },
     "user_tz": -60
    },
    "id": "21vJdua5u-rh",
    "outputId": "0100aa9e-fcb6-4939-e3aa-956fda86a50f"
   },
   "outputs": [],
   "source": [
    "stats = describe(back_testing_results, 'ai_algo-fees', 'standard_algo-fees')\n",
    "stats\n",
    "all_stats = pd.concat([stats,all_stats], axis = 0)\n"
   ]
  },
  {
   "cell_type": "code",
   "execution_count": null,
   "metadata": {
    "colab": {
     "base_uri": "https://localhost:8080/"
    },
    "executionInfo": {
     "elapsed": 9,
     "status": "ok",
     "timestamp": 1723444361675,
     "user": {
      "displayName": "Anh-Tuan NGUYEN",
      "userId": "04606402566845556729"
     },
     "user_tz": -60
    },
    "id": "F6hfvj5Tu-rh",
    "outputId": "b5904f5b-acc7-4cc8-b3a8-b4013c74ee83"
   },
   "outputs": [],
   "source": [
    "two_samples_result_tmp_df =   two_sample_t_test(back_testing_results,  'ai_algo-fees','standard_algo-fees')\n",
    "two_samples_result_df = pd.concat([two_samples_result_tmp_df,two_samples_result_df], axis = 0)\n",
    "two_samples_result_tmp_df =  two_sample_t_test(back_testing_results,'standard_algo-fees', 'ai_algo-fees')\n",
    "two_samples_result_df = pd.concat([two_samples_result_tmp_df,two_samples_result_df], axis = 0)"
   ]
  },
  {
   "cell_type": "code",
   "execution_count": null,
   "metadata": {
    "colab": {
     "base_uri": "https://localhost:8080/"
    },
    "executionInfo": {
     "elapsed": 995,
     "status": "ok",
     "timestamp": 1723444362664,
     "user": {
      "displayName": "Anh-Tuan NGUYEN",
      "userId": "04606402566845556729"
     },
     "user_tz": -60
    },
    "id": "O7kEWDF6u-rh",
    "outputId": "a885fd9b-4282-469f-f82c-a88944375dae"
   },
   "outputs": [],
   "source": [
    "threshold = find_max_rejection_threshold(back_testing_results, 'ai_algo-fees')\n",
    "one_sample_result_tmp_df = t_test(back_testing_results,'ai_algo-fees',threshold)\n",
    "one_sample_result_df = pd.concat([one_sample_result_tmp_df,one_sample_result_df], axis = 0)\n",
    "print(\"####################################\")\n",
    "threshold = find_max_rejection_threshold(back_testing_results, 'standard_algo-fees')\n",
    "one_sample_result_tmp_df = t_test(back_testing_results,'standard_algo-fees',threshold)\n",
    "one_sample_result_df = pd.concat([one_sample_result_tmp_df,one_sample_result_df], axis = 0)\n"
   ]
  },
  {
   "cell_type": "code",
   "execution_count": null,
   "metadata": {
    "colab": {
     "base_uri": "https://localhost:8080/",
     "height": 674
    },
    "executionInfo": {
     "elapsed": 1096,
     "status": "ok",
     "timestamp": 1723444363758,
     "user": {
      "displayName": "Anh-Tuan NGUYEN",
      "userId": "04606402566845556729"
     },
     "user_tz": -60
    },
    "id": "1F58-2whu-rh",
    "outputId": "e00d0622-b379-457a-b80b-22c30f52b23f"
   },
   "outputs": [],
   "source": [
    "plot_metrics(back_testing_results, 'ai_algo-fees', 'standard_algo-fees','fees')"
   ]
  },
  {
   "cell_type": "markdown",
   "metadata": {
    "id": "Kv6Q5ly2Nprc"
   },
   "source": [
    "# Average duration"
   ]
  },
  {
   "cell_type": "code",
   "execution_count": null,
   "metadata": {
    "colab": {
     "base_uri": "https://localhost:8080/",
     "height": 167
    },
    "executionInfo": {
     "elapsed": 11,
     "status": "ok",
     "timestamp": 1723444363758,
     "user": {
      "displayName": "Anh-Tuan NGUYEN",
      "userId": "04606402566845556729"
     },
     "user_tz": -60
    },
    "id": "GdSLhM5h0WPa",
    "outputId": "8c8b2518-0352-423d-ab74-1d1289f72d7d"
   },
   "outputs": [],
   "source": [
    "stats = describe(back_testing_results, 'ai_algo-avg_trade_duration', 'standard_algo-avg_trade_duration')\n",
    "stats\n",
    "all_stats = pd.concat([stats,all_stats], axis = 0)\n"
   ]
  },
  {
   "cell_type": "code",
   "execution_count": null,
   "metadata": {
    "colab": {
     "base_uri": "https://localhost:8080/"
    },
    "executionInfo": {
     "elapsed": 10,
     "status": "ok",
     "timestamp": 1723444363759,
     "user": {
      "displayName": "Anh-Tuan NGUYEN",
      "userId": "04606402566845556729"
     },
     "user_tz": -60
    },
    "id": "mIzT7Kb00WPb",
    "outputId": "210ef2c3-38e4-422e-deaf-ff8eef5ae6c0"
   },
   "outputs": [],
   "source": [
    "two_samples_result_tmp_df =   two_sample_t_test(back_testing_results,  'ai_algo-avg_trade_duration','standard_algo-avg_trade_duration')\n",
    "two_samples_result_df = pd.concat([two_samples_result_tmp_df,two_samples_result_df], axis = 0)\n",
    "two_samples_result_tmp_df =  two_sample_t_test(back_testing_results,'standard_algo-avg_trade_duration', 'ai_algo-avg_trade_duration')\n",
    "two_samples_result_df = pd.concat([two_samples_result_tmp_df,two_samples_result_df], axis = 0)"
   ]
  },
  {
   "cell_type": "code",
   "execution_count": null,
   "metadata": {
    "colab": {
     "base_uri": "https://localhost:8080/"
    },
    "executionInfo": {
     "elapsed": 27134,
     "status": "ok",
     "timestamp": 1723444390886,
     "user": {
      "displayName": "Anh-Tuan NGUYEN",
      "userId": "04606402566845556729"
     },
     "user_tz": -60
    },
    "id": "rLEndn7a0WPZ",
    "outputId": "0932a61f-f3d7-48b0-f6f1-71b039009bdf"
   },
   "outputs": [],
   "source": [
    "threshold = find_max_rejection_threshold(back_testing_results, 'ai_algo-avg_trade_duration')\n",
    "one_sample_result_tmp_df = t_test(back_testing_results,'ai_algo-avg_trade_duration',threshold)\n",
    "one_sample_result_df = pd.concat([one_sample_result_tmp_df,one_sample_result_df], axis = 0)\n",
    "print(\"####################################\")\n",
    "threshold = find_max_rejection_threshold(back_testing_results, 'standard_algo-avg_trade_duration')\n",
    "one_sample_result_tmp_df = t_test(back_testing_results,'standard_algo-avg_trade_duration',threshold)\n",
    "one_sample_result_df = pd.concat([one_sample_result_tmp_df,one_sample_result_df], axis = 0)"
   ]
  },
  {
   "cell_type": "code",
   "execution_count": null,
   "metadata": {
    "colab": {
     "base_uri": "https://localhost:8080/",
     "height": 674
    },
    "executionInfo": {
     "elapsed": 1761,
     "status": "ok",
     "timestamp": 1723444392635,
     "user": {
      "displayName": "Anh-Tuan NGUYEN",
      "userId": "04606402566845556729"
     },
     "user_tz": -60
    },
    "id": "JYuZMq2w0WPb",
    "outputId": "885a0c01-0b4c-481a-a87c-0e3e42034a59"
   },
   "outputs": [],
   "source": [
    "plot_metrics(back_testing_results, 'ai_algo-avg_trade_duration', 'standard_algo-avg_trade_duration', 'average_trade_duration')"
   ]
  },
  {
   "cell_type": "code",
   "execution_count": null,
   "metadata": {
    "executionInfo": {
     "elapsed": 29,
     "status": "ok",
     "timestamp": 1723444392636,
     "user": {
      "displayName": "Anh-Tuan NGUYEN",
      "userId": "04606402566845556729"
     },
     "user_tz": -60
    },
    "id": "QpvqmzYUaHeI"
   },
   "outputs": [],
   "source": []
  },
  {
   "cell_type": "markdown",
   "metadata": {
    "id": "XWrWKU8HaH67"
   },
   "source": [
    "# Max drawdown"
   ]
  },
  {
   "cell_type": "code",
   "execution_count": null,
   "metadata": {
    "colab": {
     "base_uri": "https://localhost:8080/",
     "height": 167
    },
    "executionInfo": {
     "elapsed": 29,
     "status": "ok",
     "timestamp": 1723444392636,
     "user": {
      "displayName": "Anh-Tuan NGUYEN",
      "userId": "04606402566845556729"
     },
     "user_tz": -60
    },
    "id": "PB8h5ymaR77R",
    "outputId": "19014436-c9db-41c0-9440-52cc00558e69"
   },
   "outputs": [],
   "source": [
    "stats = describe(back_testing_results,'ai_algo-max_drawdown', 'standard_algo-max_drawdown')\n",
    "stats\n",
    "all_stats = pd.concat([stats,all_stats], axis = 0)\n"
   ]
  },
  {
   "cell_type": "code",
   "execution_count": null,
   "metadata": {
    "colab": {
     "base_uri": "https://localhost:8080/"
    },
    "executionInfo": {
     "elapsed": 28,
     "status": "ok",
     "timestamp": 1723444392636,
     "user": {
      "displayName": "Anh-Tuan NGUYEN",
      "userId": "04606402566845556729"
     },
     "user_tz": -60
    },
    "id": "lMmgAJtzR77S",
    "outputId": "adf3df23-c320-4e32-9cad-a6db694d3d94"
   },
   "outputs": [],
   "source": [
    "from scipy import stats\n",
    "two_samples_result_tmp_df =   two_sample_t_test(back_testing_results,  'ai_algo-max_drawdown','standard_algo-max_drawdown')\n",
    "two_samples_result_df = pd.concat([two_samples_result_tmp_df,two_samples_result_df], axis = 0)\n",
    "two_samples_result_tmp_df =  two_sample_t_test(back_testing_results,'standard_algo-max_drawdown', 'ai_algo-max_drawdown')\n",
    "two_samples_result_df = pd.concat([two_samples_result_tmp_df,two_samples_result_df], axis = 0)"
   ]
  },
  {
   "cell_type": "code",
   "execution_count": null,
   "metadata": {
    "colab": {
     "base_uri": "https://localhost:8080/",
     "height": 899
    },
    "executionInfo": {
     "elapsed": 25,
     "status": "ok",
     "timestamp": 1723444392636,
     "user": {
      "displayName": "Anh-Tuan NGUYEN",
      "userId": "04606402566845556729"
     },
     "user_tz": -60
    },
    "id": "DulgrpJ3z78c",
    "outputId": "ce4469ee-422e-4d01-f005-c174020f73f7"
   },
   "outputs": [],
   "source": [
    "back_testing_results['standard_algo-max_drawdown']"
   ]
  },
  {
   "cell_type": "code",
   "execution_count": null,
   "metadata": {
    "colab": {
     "base_uri": "https://localhost:8080/"
    },
    "executionInfo": {
     "elapsed": 24,
     "status": "ok",
     "timestamp": 1723444392636,
     "user": {
      "displayName": "Anh-Tuan NGUYEN",
      "userId": "04606402566845556729"
     },
     "user_tz": -60
    },
    "id": "ec-wacSbH0VS",
    "outputId": "e7c2dbc2-b8df-4e99-fbb6-8826f2d9d37d"
   },
   "outputs": [],
   "source": [
    "threshold = find_max_rejection_threshold(back_testing_results, 'ai_algo-max_drawdown',pace =0.000001)\n",
    "one_sample_result_tmp_df = t_test(back_testing_results,'ai_algo-max_drawdown',threshold)\n",
    "one_sample_result_df = pd.concat([one_sample_result_tmp_df,one_sample_result_df], axis = 0)\n",
    "print(\"####################################\")\n",
    "threshold = find_max_rejection_threshold(back_testing_results, 'standard_algo-max_drawdown',pace =0.000001)\n",
    "one_sample_result_tmp_df = t_test(back_testing_results,'standard_algo-max_drawdown',threshold)\n",
    "one_sample_result_df = pd.concat([one_sample_result_tmp_df,one_sample_result_df], axis = 0)"
   ]
  },
  {
   "cell_type": "markdown",
   "metadata": {
    "id": "2LOfcjIDeXy_"
   },
   "source": [
    "# Win ratio"
   ]
  },
  {
   "cell_type": "code",
   "execution_count": null,
   "metadata": {
    "colab": {
     "base_uri": "https://localhost:8080/",
     "height": 167
    },
    "executionInfo": {
     "elapsed": 20,
     "status": "ok",
     "timestamp": 1723444392636,
     "user": {
      "displayName": "Anh-Tuan NGUYEN",
      "userId": "04606402566845556729"
     },
     "user_tz": -60
    },
    "id": "Vt0ME8qyTl4d",
    "outputId": "f4544756-4221-4843-efae-d59a822cca9d"
   },
   "outputs": [],
   "source": [
    "stats = describe(back_testing_results, 'ai_algo-win_ratio', 'standard_algo-win_ratio')\n",
    "stats\n",
    "all_stats = pd.concat([stats,all_stats], axis = 0)\n"
   ]
  },
  {
   "cell_type": "code",
   "execution_count": null,
   "metadata": {
    "colab": {
     "base_uri": "https://localhost:8080/"
    },
    "executionInfo": {
     "elapsed": 19,
     "status": "ok",
     "timestamp": 1723444392636,
     "user": {
      "displayName": "Anh-Tuan NGUYEN",
      "userId": "04606402566845556729"
     },
     "user_tz": -60
    },
    "id": "9MVn21C0Tl4d",
    "outputId": "7bfca0bc-b850-4ad6-eaf9-f523436284e0"
   },
   "outputs": [],
   "source": [
    "from scipy import stats\n",
    "\n",
    "two_samples_result_tmp_df =   two_sample_t_test(back_testing_results, 'ai_algo-win_ratio','standard_algo-win_ratio')\n",
    "two_samples_result_df = pd.concat([two_samples_result_tmp_df,two_samples_result_df], axis = 0)\n",
    "two_samples_result_tmp_df =  two_sample_t_test(back_testing_results,'standard_algo-win_ratio', 'ai_algo-win_ratio')\n",
    "two_samples_result_df = pd.concat([two_samples_result_tmp_df,two_samples_result_df], axis = 0)"
   ]
  },
  {
   "cell_type": "code",
   "execution_count": null,
   "metadata": {
    "colab": {
     "base_uri": "https://localhost:8080/"
    },
    "executionInfo": {
     "elapsed": 16,
     "status": "ok",
     "timestamp": 1723444392636,
     "user": {
      "displayName": "Anh-Tuan NGUYEN",
      "userId": "04606402566845556729"
     },
     "user_tz": -60
    },
    "id": "T6lNm4xdTl4c",
    "outputId": "24a28863-f88e-4de6-e35c-f18ace6a8c59"
   },
   "outputs": [],
   "source": [
    "threshold = find_max_rejection_threshold(back_testing_results, 'ai_algo-win_ratio')\n",
    "one_sample_result_tmp_df = t_test(back_testing_results,'ai_algo-win_ratio',threshold)\n",
    "one_sample_result_df = pd.concat([one_sample_result_tmp_df,one_sample_result_df], axis = 0)\n",
    "print(\"####################################\")\n",
    "threshold = find_max_rejection_threshold(back_testing_results, 'standard_algo-win_ratio')\n",
    "one_sample_result_tmp_df = t_test(back_testing_results,'standard_algo-win_ratio',threshold)\n",
    "one_sample_result_df = pd.concat([one_sample_result_tmp_df,one_sample_result_df], axis = 0)"
   ]
  },
  {
   "cell_type": "markdown",
   "metadata": {
    "id": "UWp4lVCd-Ezy"
   },
   "source": [
    "# aggregated output"
   ]
  },
  {
   "cell_type": "code",
   "execution_count": null,
   "metadata": {
    "colab": {
     "base_uri": "https://localhost:8080/",
     "height": 928
    },
    "executionInfo": {
     "elapsed": 14,
     "status": "ok",
     "timestamp": 1723444392636,
     "user": {
      "displayName": "Anh-Tuan NGUYEN",
      "userId": "04606402566845556729"
     },
     "user_tz": -60
    },
    "id": "ReWYtRv6nD6X",
    "outputId": "7d0b4ae8-0e80-45fc-c3a0-35785df60b82"
   },
   "outputs": [],
   "source": [
    "two_samples_result_df"
   ]
  },
  {
   "cell_type": "code",
   "execution_count": null,
   "metadata": {
    "executionInfo": {
     "elapsed": 13,
     "status": "ok",
     "timestamp": 1723444392636,
     "user": {
      "displayName": "Anh-Tuan NGUYEN",
      "userId": "04606402566845556729"
     },
     "user_tz": -60
    },
    "id": "U57_q7QZgBJq"
   },
   "outputs": [],
   "source": [
    "two_samples_result_df['metric'] = two_samples_result_df.apply(lambda x : x['col1'].split('-')[1], axis = 1)\n",
    "two_samples_result_df['algo_type_col1'] = two_samples_result_df.apply(lambda x : x['col1'].split('-')[0], axis = 1)\n",
    "two_samples_result_df['algo_type_col2'] = two_samples_result_df.apply(lambda x : x['col2'].split('-')[0], axis = 1)\n",
    "two_samples_result_df['H0'] = two_samples_result_df.apply(lambda x : f\"{x['algo_type_col2']}>={x['algo_type_col1']}\", axis = 1)\n",
    "two_samples_result_df['Ha'] = two_samples_result_df.apply(lambda x : f\"{x['algo_type_col1']}>{x['algo_type_col2']}\", axis = 1)\n",
    "columns = [ 'metric',  'H0', 'Ha','col1', 'col2','normality_test_p_value_col1',\n",
    "       'normality_test_p_value_col2', 'is_normal',\n",
    "       'p_value_equal_variance_levene_test', 't_stat', 'p_value_ttest',\n",
    "       'u_stat', 'p_value_mannwhitney', 'decision', ]\n",
    "two_samples_result_df = two_samples_result_df[columns].sort_values(by = ['metric','H0'], ascending = [True,True])"
   ]
  },
  {
   "cell_type": "code",
   "execution_count": null,
   "metadata": {
    "executionInfo": {
     "elapsed": 13,
     "status": "ok",
     "timestamp": 1723444392637,
     "user": {
      "displayName": "Anh-Tuan NGUYEN",
      "userId": "04606402566845556729"
     },
     "user_tz": -60
    },
    "id": "1TgGf-Y3npxe"
   },
   "outputs": [],
   "source": [
    "one_sample_result_df['metric'] = one_sample_result_df.apply(lambda x : x['col'].split('-')[1], axis = 1)\n",
    "one_sample_result_df['algo_type_col'] = one_sample_result_df.apply(lambda x : x['col'].split('-')[0], axis = 1)\n",
    "one_sample_result_df['H0'] = one_sample_result_df.apply(lambda x : f\"{x['algo_type_col']}<={x['threshold']}\", axis = 1)\n",
    "one_sample_result_df['Ha'] = one_sample_result_df.apply(lambda x : f\"{x['algo_type_col']}>{x['threshold']}\", axis = 1)\n",
    "columns = [ 'metric', 'threshold', 'H0', 'Ha', 'normality_test_p_value_col', 'is_normal','t_stat',\n",
    "       'p_value_ttest', 'wilcoxon_stat', 'p_value_wilcoxon', 'decision']\n",
    "one_sample_result_df = one_sample_result_df[columns].sort_values(by = ['metric','H0'], ascending = [True,True])"
   ]
  },
  {
   "cell_type": "code",
   "execution_count": null,
   "metadata": {
    "executionInfo": {
     "elapsed": 13,
     "status": "ok",
     "timestamp": 1723444392637,
     "user": {
      "displayName": "Anh-Tuan NGUYEN",
      "userId": "04606402566845556729"
     },
     "user_tz": -60
    },
    "id": "F6fyenxC1137"
   },
   "outputs": [],
   "source": [
    "all_stats = all_stats.reset_index()\n",
    "all_stats['metric'] = all_stats.apply(lambda x : x['index'].split('-')[1], axis = 1)\n",
    "all_stats['algo_type_col'] = all_stats.apply(lambda x : x['index'].split('-')[0], axis = 1)\n",
    "columns = ['metric', 'algo_type_col', 'count', 'mean', 'std', 'min', '25%', '50%', '75%', 'max']\n",
    "all_stats = all_stats[columns]"
   ]
  },
  {
   "cell_type": "code",
   "execution_count": null,
   "metadata": {
    "executionInfo": {
     "elapsed": 1096,
     "status": "ok",
     "timestamp": 1723444393720,
     "user": {
      "displayName": "Anh-Tuan NGUYEN",
      "userId": "04606402566845556729"
     },
     "user_tz": -60
    },
    "id": "h_x3WTEs-Jso"
   },
   "outputs": [],
   "source": [
    "all_stats.to_csv(\"EXPLORATIVE_DATA_ANALYSIS/all_stats.csv\", index = False)\n",
    "two_samples_result_df.to_csv(\"EXPLORATIVE_DATA_ANALYSIS/two_samples_result.csv\", index = False)\n",
    "one_sample_result_df.to_csv(\"EXPLORATIVE_DATA_ANALYSIS/one_sample_result.csv\", index = False)"
   ]
  },
  {
   "cell_type": "code",
   "execution_count": null,
   "metadata": {
    "executionInfo": {
     "elapsed": 7,
     "status": "ok",
     "timestamp": 1723444393720,
     "user": {
      "displayName": "Anh-Tuan NGUYEN",
      "userId": "04606402566845556729"
     },
     "user_tz": -60
    },
    "id": "Y1d0Rwr0NbXc"
   },
   "outputs": [],
   "source": []
  },
  {
   "cell_type": "code",
   "execution_count": null,
   "metadata": {
    "executionInfo": {
     "elapsed": 6,
     "status": "ok",
     "timestamp": 1723444393720,
     "user": {
      "displayName": "Anh-Tuan NGUYEN",
      "userId": "04606402566845556729"
     },
     "user_tz": -60
    },
    "id": "eZZ5WMSdNbaF"
   },
   "outputs": [],
   "source": []
  },
  {
   "cell_type": "code",
   "execution_count": null,
   "metadata": {
    "executionInfo": {
     "elapsed": 5,
     "status": "ok",
     "timestamp": 1723444393720,
     "user": {
      "displayName": "Anh-Tuan NGUYEN",
      "userId": "04606402566845556729"
     },
     "user_tz": -60
    },
    "id": "QP-R4GclNbdY"
   },
   "outputs": [],
   "source": []
  }
 ],
 "metadata": {
  "colab": {
   "authorship_tag": "ABX9TyO8sJJqFidT8Xy3yKuP2fjT",
   "machine_shape": "hm",
   "provenance": [],
   "toc_visible": true
  },
  "kernelspec": {
   "display_name": "Python 3 (ipykernel)",
   "language": "python",
   "name": "python3"
  },
  "language_info": {
   "name": "python"
  }
 },
 "nbformat": 4,
 "nbformat_minor": 4
}
